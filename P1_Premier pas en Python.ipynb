{
 "cells": [
  {
   "cell_type": "markdown",
   "id": "20dedf56",
   "metadata": {},
   "source": [
    "# Exercice 1\n",
    "\n",
    "\n"
   ]
  },
  {
   "cell_type": "markdown",
   "id": "67db09f2",
   "metadata": {},
   "source": [
    "Affectez les variables **temps** et **distance** par les valeurs 6.892 et 19.7.\n",
    "\n",
    "Calculez et affichez la valeur de la vitesse.\n",
    "Améliorez l’affichage en imposant un chiffre après le point décimal."
   ]
  },
  {
   "cell_type": "code",
   "execution_count": 1,
   "id": "42d4c27d",
   "metadata": {},
   "outputs": [
    {
     "name": "stdout",
     "output_type": "stream",
     "text": [
      "La vitesse est de 2.8583865351131745 km/h\n",
      "-----------------------\n",
      "\n",
      " La vitesse est de 2.86 m/s\n"
     ]
    }
   ],
   "source": [
    "#Initialisation des nombre\n",
    "\n",
    "temps = 6.892\n",
    "distance = 19.7\n",
    "\n",
    "#calcul de la vitesse \n",
    "vit = distance/temps\n",
    "\n",
    "print(\"La vitesse est de {} km/h\".format(vit))\n",
    "\n",
    "## affichage formate :\n",
    "print(\"{}\".format(\"-\"*23))\n",
    "print(\"\\n La vitesse est de {:.2f} m/s\".format(vit)) # arrondi a 2 chiffres\n"
   ]
  },
  {
   "cell_type": "markdown",
   "id": "f37f8144",
   "metadata": {},
   "source": [
    "# Exercice 2\n",
    "\n",
    "Saisir un nom et un âge en utilisant l’instruction **input()**. Les afficher.\n",
    "\n",
    "\n"
   ]
  },
  {
   "cell_type": "code",
   "execution_count": 2,
   "id": "166af4ec",
   "metadata": {},
   "outputs": [
    {
     "name": "stdout",
     "output_type": "stream",
     "text": [
      "Entrer l'age :30\n",
      "Entrer le nom :Sofiane\n",
      "Sofiane a 30 ans.\n"
     ]
    }
   ],
   "source": [
    "#Entrer les valeurs\n",
    "\n",
    "age,nom = input(\"Entrer l\\'age :\"),input(\"Entrer le nom :\")\n",
    "\n",
    "#Convertion en Int\n",
    "age = int(age)\n",
    "\n",
    "print(\"{} a {} ans.\".format(nom,age))"
   ]
  },
  {
   "cell_type": "markdown",
   "id": "2f223446",
   "metadata": {},
   "source": [
    "Refaire la saisie du nom, mais avec l’instruction **raw_input()**. L’afficher.\n"
   ]
  },
  {
   "cell_type": "code",
   "execution_count": null,
   "id": "f34d9b63",
   "metadata": {},
   "outputs": [],
   "source": []
  },
  {
   "cell_type": "markdown",
   "id": "80bbc268",
   "metadata": {},
   "source": [
    "\n",
    "Enfin, utilisez la « bonne pratique » : recommencez l’exercice en transtypant les saisies\n",
    "effectuées avec l’instruction **raw_input()**"
   ]
  },
  {
   "cell_type": "code",
   "execution_count": 4,
   "id": "cd0313ea",
   "metadata": {},
   "outputs": [
    {
     "name": "stdout",
     "output_type": "stream",
     "text": [
      "Entrer l'age :30\n"
     ]
    },
    {
     "data": {
      "text/plain": [
       "30"
      ]
     },
     "execution_count": 4,
     "metadata": {},
     "output_type": "execute_result"
    }
   ],
   "source": [
    "age = int(input(\"Entrer l\\'age :\"))\n",
    "\n",
    "age"
   ]
  },
  {
   "cell_type": "code",
   "execution_count": null,
   "id": "59456fbe",
   "metadata": {},
   "outputs": [],
   "source": []
  }
 ],
 "metadata": {
  "kernelspec": {
   "display_name": "Python 3 (ipykernel)",
   "language": "python",
   "name": "python3"
  },
  "language_info": {
   "codemirror_mode": {
    "name": "ipython",
    "version": 3
   },
   "file_extension": ".py",
   "mimetype": "text/x-python",
   "name": "python",
   "nbconvert_exporter": "python",
   "pygments_lexer": "ipython3",
   "version": "3.9.7"
  }
 },
 "nbformat": 4,
 "nbformat_minor": 5
}
